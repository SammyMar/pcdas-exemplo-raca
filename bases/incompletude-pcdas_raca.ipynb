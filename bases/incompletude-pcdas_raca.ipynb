{
 "cells": [
  {
   "cell_type": "code",
   "execution_count": 2,
   "metadata": {},
   "outputs": [
    {
     "name": "stderr",
     "output_type": "stream",
     "text": [
      "\n",
      "Attaching package: ‘dplyr’\n",
      "\n",
      "\n",
      "The following objects are masked from ‘package:stats’:\n",
      "\n",
      "    filter, lag\n",
      "\n",
      "\n",
      "The following objects are masked from ‘package:base’:\n",
      "\n",
      "    intersect, setdiff, setequal, union\n",
      "\n",
      "\n"
     ]
    }
   ],
   "source": [
    "library(dplyr)\n",
    "library(httr)\n",
    "library(ggplot2)\n",
    "library(getPass)\n",
    "library(repr)"
   ]
  },
  {
   "cell_type": "code",
   "execution_count": 3,
   "metadata": {},
   "outputs": [
    {
     "name": "stdin",
     "output_type": "stream",
     "text": [
      " ········································\n"
     ]
    }
   ],
   "source": [
    "token = getPass()\n"
   ]
  },
  {
   "cell_type": "code",
   "execution_count": 4,
   "metadata": {},
   "outputs": [
    {
     "data": {
      "text/html": [
       "<table>\n",
       "<caption>A tibble: 25 × 1</caption>\n",
       "<thead>\n",
       "\t<tr><th scope=col>databases</th></tr>\n",
       "\t<tr><th scope=col>&lt;list&gt;</th></tr>\n",
       "</thead>\n",
       "<tbody>\n",
       "\t<tr><td>datasus-sim</td></tr>\n",
       "\t<tr><td>datasus-sinasc</td></tr>\n",
       "\t<tr><td>oobr-sindrome-gripal-exploracao</td></tr>\n",
       "\t<tr><td>datasus-sim_preliminar</td></tr>\n",
       "\t<tr><td>datasus-sinasc_preliminar</td></tr>\n",
       "\t<tr><td>datasus-sih</td></tr>\n",
       "\t<tr><td>datasus-sim-el</td></tr>\n",
       "\t<tr><td>oobr-sindrome-gripal-semanal</td></tr>\n",
       "\t<tr><td>datasus-cnes</td></tr>\n",
       "\t<tr><td>datasus-sinasc-el</td></tr>\n",
       "\t<tr><td>datasus-sinasc_preliminar_2021</td></tr>\n",
       "\t<tr><td>datasus-cnes-lt-2008-2017</td></tr>\n",
       "\t<tr><td>datasus-cnes-eq-2008-2017</td></tr>\n",
       "\t<tr><td>datasus-cnes-pf-2008-2017</td></tr>\n",
       "\t<tr><td>datasus-cnes-sr-2008-2017</td></tr>\n",
       "\t<tr><td>datasus-sim-preliminar_2021</td></tr>\n",
       "\t<tr><td>datasus-srag</td></tr>\n",
       "\t<tr><td>datasus-sim-dofet</td></tr>\n",
       "\t<tr><td>datasus-sinasc_preliminar_21</td></tr>\n",
       "\t<tr><td>datasus-sinasc_preliminar_22</td></tr>\n",
       "\t<tr><td>datasus-sinasc_final_1996-2020_preliminar_2021_2022\r\n",
       "</td></tr>\n",
       "\t<tr><td>datasus-sim_preliminar_21</td></tr>\n",
       "\t<tr><td>datasus-sim_preliminar_22</td></tr>\n",
       "\t<tr><td>datasus-sim_final_1996-2020_preliminar_2021_2022</td></tr>\n",
       "\t<tr><td>datasus-srags</td></tr>\n",
       "</tbody>\n",
       "</table>\n"
      ],
      "text/latex": [
       "A tibble: 25 × 1\n",
       "\\begin{tabular}{l}\n",
       " databases\\\\\n",
       " <list>\\\\\n",
       "\\hline\n",
       "\t datasus-sim\\\\\n",
       "\t datasus-sinasc\\\\\n",
       "\t oobr-sindrome-gripal-exploracao\\\\\n",
       "\t datasus-sim\\_preliminar\\\\\n",
       "\t datasus-sinasc\\_preliminar\\\\\n",
       "\t datasus-sih\\\\\n",
       "\t datasus-sim-el\\\\\n",
       "\t oobr-sindrome-gripal-semanal\\\\\n",
       "\t datasus-cnes\\\\\n",
       "\t datasus-sinasc-el\\\\\n",
       "\t datasus-sinasc\\_preliminar\\_2021\\\\\n",
       "\t datasus-cnes-lt-2008-2017\\\\\n",
       "\t datasus-cnes-eq-2008-2017\\\\\n",
       "\t datasus-cnes-pf-2008-2017\\\\\n",
       "\t datasus-cnes-sr-2008-2017\\\\\n",
       "\t datasus-sim-preliminar\\_2021\\\\\n",
       "\t datasus-srag\\\\\n",
       "\t datasus-sim-dofet\\\\\n",
       "\t datasus-sinasc\\_preliminar\\_21\\\\\n",
       "\t datasus-sinasc\\_preliminar\\_22\\\\\n",
       "\t datasus-sinasc\\_final\\_1996-2020\\_preliminar\\_2021\\_2022\r\n",
       "\\\\\n",
       "\t datasus-sim\\_preliminar\\_21\\\\\n",
       "\t datasus-sim\\_preliminar\\_22\\\\\n",
       "\t datasus-sim\\_final\\_1996-2020\\_preliminar\\_2021\\_2022\\\\\n",
       "\t datasus-srags\\\\\n",
       "\\end{tabular}\n"
      ],
      "text/markdown": [
       "\n",
       "A tibble: 25 × 1\n",
       "\n",
       "| databases &lt;list&gt; |\n",
       "|---|\n",
       "| datasus-sim |\n",
       "| datasus-sinasc |\n",
       "| oobr-sindrome-gripal-exploracao |\n",
       "| datasus-sim_preliminar |\n",
       "| datasus-sinasc_preliminar |\n",
       "| datasus-sih |\n",
       "| datasus-sim-el |\n",
       "| oobr-sindrome-gripal-semanal |\n",
       "| datasus-cnes |\n",
       "| datasus-sinasc-el |\n",
       "| datasus-sinasc_preliminar_2021 |\n",
       "| datasus-cnes-lt-2008-2017 |\n",
       "| datasus-cnes-eq-2008-2017 |\n",
       "| datasus-cnes-pf-2008-2017 |\n",
       "| datasus-cnes-sr-2008-2017 |\n",
       "| datasus-sim-preliminar_2021 |\n",
       "| datasus-srag |\n",
       "| datasus-sim-dofet |\n",
       "| datasus-sinasc_preliminar_21 |\n",
       "| datasus-sinasc_preliminar_22 |\n",
       "| datasus-sinasc_final_1996-2020_preliminar_2021_2022\r\n",
       " |\n",
       "| datasus-sim_preliminar_21 |\n",
       "| datasus-sim_preliminar_22 |\n",
       "| datasus-sim_final_1996-2020_preliminar_2021_2022 |\n",
       "| datasus-srags |\n",
       "\n"
      ],
      "text/plain": [
       "   databases                                              \n",
       "1  datasus-sim                                            \n",
       "2  datasus-sinasc                                         \n",
       "3  oobr-sindrome-gripal-exploracao                        \n",
       "4  datasus-sim_preliminar                                 \n",
       "5  datasus-sinasc_preliminar                              \n",
       "6  datasus-sih                                            \n",
       "7  datasus-sim-el                                         \n",
       "8  oobr-sindrome-gripal-semanal                           \n",
       "9  datasus-cnes                                           \n",
       "10 datasus-sinasc-el                                      \n",
       "11 datasus-sinasc_preliminar_2021                         \n",
       "12 datasus-cnes-lt-2008-2017                              \n",
       "13 datasus-cnes-eq-2008-2017                              \n",
       "14 datasus-cnes-pf-2008-2017                              \n",
       "15 datasus-cnes-sr-2008-2017                              \n",
       "16 datasus-sim-preliminar_2021                            \n",
       "17 datasus-srag                                           \n",
       "18 datasus-sim-dofet                                      \n",
       "19 datasus-sinasc_preliminar_21                           \n",
       "20 datasus-sinasc_preliminar_22                           \n",
       "21 datasus-sinasc_final_1996-2020_preliminar_2021_2022\\r\\n\n",
       "22 datasus-sim_preliminar_21                              \n",
       "23 datasus-sim_preliminar_22                              \n",
       "24 datasus-sim_final_1996-2020_preliminar_2021_2022       \n",
       "25 datasus-srags                                          "
      ]
     },
     "metadata": {},
     "output_type": "display_data"
    }
   ],
   "source": [
    "url_base = \"https://bigdata-api.fiocruz.br\"\n",
    "\n",
    "endpoint = paste0(url_base,\"/\",\"show_tables\")\n",
    "request <- POST(url = endpoint,\n",
    "          body = list(\"token\" = token),\n",
    "          encode = \"json\")\n",
    "\n",
    "as_tibble(content(request))"
   ]
  },
  {
   "cell_type": "code",
   "execution_count": 18,
   "metadata": {},
   "outputs": [],
   "source": [
    "convertRequestToDF <- function(request){\n",
    "    variables = unlist(content(request)$columns)\n",
    "    variables = variables[names(variables) == \"name\"]\n",
    "    column_names <- unname(variables)\n",
    "    values = content(request)$rows\n",
    "    df <- as.data.frame(do.call(rbind,lapply(values,function(r) {\n",
    "        row <- r\n",
    "        row[sapply(row, is.null)] <- NA\n",
    "        rbind(unlist(row))\n",
    "    } )))\n",
    "    names(df) <- column_names\n",
    "    return(df)\n",
    "}"
   ]
  },
  {
   "cell_type": "code",
   "execution_count": 6,
   "metadata": {},
   "outputs": [],
   "source": [
    "#numero de nascimentos\n",
    "estados <- c('RO','AC','AM','RR','PA','AP','TO','MA','PI','CE','RN','PB','PE','AL','SE','BA','MG','ES','RJ','SP','PR','SC','RS','MS','MT','GO','DF')\n",
    "dataframe <- data.frame()\n",
    "\n",
    "endpoint <- paste0(url_base,\"/\",\"sql_query\")\n",
    "\n",
    "for (estado in estados){\n",
    "    # Nascimentos total por município\n",
    "\n",
    "    params = paste0('{\n",
    "      \"token\": {\n",
    "        \"token\": \"',token,'\"\n",
    "      },\n",
    "      \"sql\": {\n",
    "        \"sql\": {\"query\":\"SELECT res_SIGLA_UF, ano_nasc, CODMUNNASC, COUNT(1) FROM \\\\\"datasus-sinasc\\\\\" WHERE res_SIGLA_UF = \\'',estado,'\\' GROUP BY res_SIGLA_UF, ano_nasc, CODMUNNASC\", \"fetch_size\": 65000}\n",
    "      }\n",
    "    }')\n",
    "\n",
    "    request <- POST(url = endpoint, body = params, encode = \"form\")\n",
    "    df_mun <- convertRequestToDF(request)\n",
    "    #names(df_mun) <- c('UF', 'Ano', 'Mes', 'Nascimentos')\n",
    "    dataframe <- rbind(dataframe, df_mun)\n",
    "    \n",
    "    repeat {\n",
    "        \n",
    "        cursor <- content(request)$cursor\n",
    "        \n",
    "        params = paste0('{\n",
    "          \"token\": {\n",
    "            \"token\": \"',token,'\"\n",
    "          },\n",
    "          \"sql\": {\n",
    "            \"sql\": {\"query\":\"SELECT res_SIGLA_UF, ano_nasc, CODMUNNASC, COUNT(1) FROM \\\\\"datasus-sinasc\\\\\" WHERE res_SIGLA_UF = \\'',estado,'\\' GROUP BY res_SIGLA_UF, ano_nasc, CODMUNNASC\", \"fetch_size\": 65000, \"cursor\": \"',cursor,'\"}\n",
    "          }\n",
    "        }')\n",
    "\n",
    "\n",
    "        request <- POST(url = endpoint, body = params, encode = \"form\")\n",
    "        \n",
    "        if (length(content(request)$rows) == 0)\n",
    "            break\n",
    "        else print(\"oi\")\n",
    "        \n",
    "        df_mun <- convertRequestToDF(request)\n",
    "       # names(df_mun) <- c('UF', 'Ano', 'Mes', 'Nascimentos')\n",
    "        dataframe <- rbind(dataframe, df_mun)\n",
    "    }\n",
    "}"
   ]
  },
  {
   "cell_type": "code",
   "execution_count": 7,
   "metadata": {},
   "outputs": [
    {
     "data": {
      "text/html": [
       "<table>\n",
       "<caption>A data.frame: 6 × 4</caption>\n",
       "<thead>\n",
       "\t<tr><th></th><th scope=col>res_SIGLA_UF</th><th scope=col>ano_nasc</th><th scope=col>CODMUNNASC</th><th scope=col>COUNT(1)</th></tr>\n",
       "\t<tr><th></th><th scope=col>&lt;fct&gt;</th><th scope=col>&lt;fct&gt;</th><th scope=col>&lt;fct&gt;</th><th scope=col>&lt;fct&gt;</th></tr>\n",
       "</thead>\n",
       "<tbody>\n",
       "\t<tr><th scope=row>1</th><td>RO</td><td>1996</td><td>1100000</td><td>1   </td></tr>\n",
       "\t<tr><th scope=row>2</th><td>RO</td><td>1996</td><td>1100015</td><td>609 </td></tr>\n",
       "\t<tr><th scope=row>3</th><td>RO</td><td>1996</td><td>1100023</td><td>2611</td></tr>\n",
       "\t<tr><th scope=row>4</th><td>RO</td><td>1996</td><td>1100031</td><td>137 </td></tr>\n",
       "\t<tr><th scope=row>5</th><td>RO</td><td>1996</td><td>1100049</td><td>2564</td></tr>\n",
       "\t<tr><th scope=row>6</th><td>RO</td><td>1996</td><td>1100056</td><td>527 </td></tr>\n",
       "</tbody>\n",
       "</table>\n"
      ],
      "text/latex": [
       "A data.frame: 6 × 4\n",
       "\\begin{tabular}{r|llll}\n",
       "  & res\\_SIGLA\\_UF & ano\\_nasc & CODMUNNASC & COUNT(1)\\\\\n",
       "  & <fct> & <fct> & <fct> & <fct>\\\\\n",
       "\\hline\n",
       "\t1 & RO & 1996 & 1100000 & 1   \\\\\n",
       "\t2 & RO & 1996 & 1100015 & 609 \\\\\n",
       "\t3 & RO & 1996 & 1100023 & 2611\\\\\n",
       "\t4 & RO & 1996 & 1100031 & 137 \\\\\n",
       "\t5 & RO & 1996 & 1100049 & 2564\\\\\n",
       "\t6 & RO & 1996 & 1100056 & 527 \\\\\n",
       "\\end{tabular}\n"
      ],
      "text/markdown": [
       "\n",
       "A data.frame: 6 × 4\n",
       "\n",
       "| <!--/--> | res_SIGLA_UF &lt;fct&gt; | ano_nasc &lt;fct&gt; | CODMUNNASC &lt;fct&gt; | COUNT(1) &lt;fct&gt; |\n",
       "|---|---|---|---|---|\n",
       "| 1 | RO | 1996 | 1100000 | 1    |\n",
       "| 2 | RO | 1996 | 1100015 | 609  |\n",
       "| 3 | RO | 1996 | 1100023 | 2611 |\n",
       "| 4 | RO | 1996 | 1100031 | 137  |\n",
       "| 5 | RO | 1996 | 1100049 | 2564 |\n",
       "| 6 | RO | 1996 | 1100056 | 527  |\n",
       "\n"
      ],
      "text/plain": [
       "  res_SIGLA_UF ano_nasc CODMUNNASC COUNT(1)\n",
       "1 RO           1996     1100000    1       \n",
       "2 RO           1996     1100015    609     \n",
       "3 RO           1996     1100023    2611    \n",
       "4 RO           1996     1100031    137     \n",
       "5 RO           1996     1100049    2564    \n",
       "6 RO           1996     1100056    527     "
      ]
     },
     "metadata": {},
     "output_type": "display_data"
    },
    {
     "data": {
      "text/html": [
       "<style>\n",
       ".list-inline {list-style: none; margin:0; padding: 0}\n",
       ".list-inline>li {display: inline-block}\n",
       ".list-inline>li:not(:last-child)::after {content: \"\\00b7\"; padding: 0 .5ex}\n",
       "</style>\n",
       "<ol class=list-inline><li>154730</li><li>4</li></ol>\n"
      ],
      "text/latex": [
       "\\begin{enumerate*}\n",
       "\\item 154730\n",
       "\\item 4\n",
       "\\end{enumerate*}\n"
      ],
      "text/markdown": [
       "1. 154730\n",
       "2. 4\n",
       "\n",
       "\n"
      ],
      "text/plain": [
       "[1] 154730      4"
      ]
     },
     "metadata": {},
     "output_type": "display_data"
    }
   ],
   "source": [
    "head(dataframe)\n",
    "dim(dataframe)"
   ]
  },
  {
   "cell_type": "code",
   "execution_count": 8,
   "metadata": {},
   "outputs": [],
   "source": [
    "# Exportando os dados (Nascimentos_muni = UF, Município, Ano e Nascimentos)\n",
    "write.table(dataframe, 'Nascimentos_muni.csv', sep = \";\", dec = \".\", row.names = FALSE)"
   ]
  },
  {
   "cell_type": "code",
   "execution_count": 17,
   "metadata": {},
   "outputs": [
    {
     "ename": "ERROR",
     "evalue": "Error: $ operator is invalid for atomic vectors\n",
     "output_type": "error",
     "traceback": [
      "Error: $ operator is invalid for atomic vectors\nTraceback:\n",
      "1. convertRequestToDF(request)",
      "2. unlist(content(request)$columns)   # at line 2 of file <text>"
     ]
    }
   ],
   "source": [
    "##raca/cor\n",
    "estados <- c('RO','AC','AM','RR','PA','AP','TO','MA','PI','CE','RN','PB','PE','AL','SE','BA','MG','ES','RJ','SP','PR','SC','RS','MS','MT','GO','DF')\n",
    "dataframe <- data.frame()\n",
    "\n",
    "endpoint <- paste0(url_base,\"/\",\"sql_query\")\n",
    "\n",
    "for (estado in estados){\n",
    "    params = paste0('{\n",
    "          \"token\": {\n",
    "            \"token\": \"',token,'\"\n",
    "          },\n",
    "          \"sql\": {\n",
    "            \"sql\": {\"query\":\"SELECT res_SIGLA_UF, CODMUNNASC, ano_nasc, RACACOR, COUNT(1) FROM \\\\\"datasus-sinasc\\\\\" WHERE res_SIGLA_UF = \\'',estado,'\\' GROUP BY res_SIGLA_UF, CODMUNNASC, ano_nasc, RACACOR\", \"fetch_size\": 65000}\n",
    "          }\n",
    "          \n",
    "        }')\n",
    "    \n",
    "    request <- POST(url = endpoint, body = params, encode = \"form\")\n",
    "    df_premat <- convertRequestToDF(request)\n",
    "    names(df_premat) <- c('UF', 'Municipio', 'Ano', 'Raca', 'Nascidos')\n",
    "    dataframe <- rbind(dataframe, df_premat)\n",
    "    \n",
    "    repeat {\n",
    "        \n",
    "        cursor <- content(request)$cursor\n",
    "        \n",
    "        params = paste0('{\n",
    "          \"token\": {\n",
    "            \"token\": \"',token,'\"\n",
    "          },\n",
    "          \"sql\": {\n",
    "            \"sql\": {\"query\":\"SELECT res_SIGLA_UF, CODMUNNASC, ano_nasc, RACACOR, COUNT(1) FROM \\\\\"datasus-sinasc\\\\\" WHERE res_SIGLA_UF = \\'',estado,'\\' GROUP BY res_SIGLA_UF, CODMUNNASC, ano_nasc, RACACOR\", \"fetch_size\": 65000, \"cursor\": \"',cursor,'\"}\n",
    "          }\n",
    "        }')\n",
    "\n",
    "\n",
    "        request <- POST(url = endpoint, body = params, encode = \"form\")\n",
    "        \n",
    "        if (length(content(request)$rows) == 0)\n",
    "            break\n",
    "        else print(\"oi\")\n",
    "        \n",
    "        df_premat <- convertRequestToDF(request)\n",
    "        names(df_premat) <- c('UF', 'Municipio', 'Ano', 'Raca', 'Nascidos')\n",
    "        dataframe <- rbind(dataframe, df_premat)\n",
    "    }\n",
    "}"
   ]
  },
  {
   "cell_type": "code",
   "execution_count": 11,
   "metadata": {},
   "outputs": [
    {
     "data": {
      "text/html": [
       "<table>\n",
       "<caption>A data.frame: 6 × 5</caption>\n",
       "<thead>\n",
       "\t<tr><th></th><th scope=col>UF</th><th scope=col>Municipio</th><th scope=col>Ano</th><th scope=col>Raca</th><th scope=col>Nascidos</th></tr>\n",
       "\t<tr><th></th><th scope=col>&lt;fct&gt;</th><th scope=col>&lt;fct&gt;</th><th scope=col>&lt;fct&gt;</th><th scope=col>&lt;fct&gt;</th><th scope=col>&lt;fct&gt;</th></tr>\n",
       "</thead>\n",
       "<tbody>\n",
       "\t<tr><th scope=row>1</th><td>RO</td><td>110000 </td><td>2014</td><td>4</td><td>1</td></tr>\n",
       "\t<tr><th scope=row>2</th><td>RO</td><td>1100000</td><td>1996</td><td>9</td><td>1</td></tr>\n",
       "\t<tr><th scope=row>3</th><td>RO</td><td>1100000</td><td>1997</td><td>4</td><td>1</td></tr>\n",
       "\t<tr><th scope=row>4</th><td>RO</td><td>1100000</td><td>1998</td><td>1</td><td>1</td></tr>\n",
       "\t<tr><th scope=row>5</th><td>RO</td><td>1100000</td><td>1998</td><td>4</td><td>3</td></tr>\n",
       "\t<tr><th scope=row>6</th><td>RO</td><td>1100000</td><td>1998</td><td>9</td><td>3</td></tr>\n",
       "</tbody>\n",
       "</table>\n"
      ],
      "text/latex": [
       "A data.frame: 6 × 5\n",
       "\\begin{tabular}{r|lllll}\n",
       "  & UF & Municipio & Ano & Raca & Nascidos\\\\\n",
       "  & <fct> & <fct> & <fct> & <fct> & <fct>\\\\\n",
       "\\hline\n",
       "\t1 & RO & 110000  & 2014 & 4 & 1\\\\\n",
       "\t2 & RO & 1100000 & 1996 & 9 & 1\\\\\n",
       "\t3 & RO & 1100000 & 1997 & 4 & 1\\\\\n",
       "\t4 & RO & 1100000 & 1998 & 1 & 1\\\\\n",
       "\t5 & RO & 1100000 & 1998 & 4 & 3\\\\\n",
       "\t6 & RO & 1100000 & 1998 & 9 & 3\\\\\n",
       "\\end{tabular}\n"
      ],
      "text/markdown": [
       "\n",
       "A data.frame: 6 × 5\n",
       "\n",
       "| <!--/--> | UF &lt;fct&gt; | Municipio &lt;fct&gt; | Ano &lt;fct&gt; | Raca &lt;fct&gt; | Nascidos &lt;fct&gt; |\n",
       "|---|---|---|---|---|---|\n",
       "| 1 | RO | 110000  | 2014 | 4 | 1 |\n",
       "| 2 | RO | 1100000 | 1996 | 9 | 1 |\n",
       "| 3 | RO | 1100000 | 1997 | 4 | 1 |\n",
       "| 4 | RO | 1100000 | 1998 | 1 | 1 |\n",
       "| 5 | RO | 1100000 | 1998 | 4 | 3 |\n",
       "| 6 | RO | 1100000 | 1998 | 9 | 3 |\n",
       "\n"
      ],
      "text/plain": [
       "  UF Municipio Ano  Raca Nascidos\n",
       "1 RO 110000    2014 4    1       \n",
       "2 RO 1100000   1996 9    1       \n",
       "3 RO 1100000   1997 4    1       \n",
       "4 RO 1100000   1998 1    1       \n",
       "5 RO 1100000   1998 4    3       \n",
       "6 RO 1100000   1998 9    3       "
      ]
     },
     "metadata": {},
     "output_type": "display_data"
    },
    {
     "data": {
      "text/html": [
       "<style>\n",
       ".list-inline {list-style: none; margin:0; padding: 0}\n",
       ".list-inline>li {display: inline-block}\n",
       ".list-inline>li:not(:last-child)::after {content: \"\\00b7\"; padding: 0 .5ex}\n",
       "</style>\n",
       "<ol class=list-inline><li>421255</li><li>5</li></ol>\n"
      ],
      "text/latex": [
       "\\begin{enumerate*}\n",
       "\\item 421255\n",
       "\\item 5\n",
       "\\end{enumerate*}\n"
      ],
      "text/markdown": [
       "1. 421255\n",
       "2. 5\n",
       "\n",
       "\n"
      ],
      "text/plain": [
       "[1] 421255      5"
      ]
     },
     "metadata": {},
     "output_type": "display_data"
    }
   ],
   "source": [
    "head(dataframe)\n",
    "dim(dataframe)"
   ]
  },
  {
   "cell_type": "code",
   "execution_count": 12,
   "metadata": {},
   "outputs": [],
   "source": [
    "# Exportando os dados (Nascimentos_muni = UF, Município, Ano e Nascimentos)\n",
    "write.table(dataframe, 'raca_muni.csv', sep = \";\", dec = \".\", row.names = FALSE)"
   ]
  }
 ],
 "metadata": {
  "kernelspec": {
   "display_name": "R",
   "language": "R",
   "name": "ir"
  },
  "language_info": {
   "codemirror_mode": "r",
   "file_extension": ".r",
   "mimetype": "text/x-r-source",
   "name": "R",
   "pygments_lexer": "r",
   "version": "3.6.3"
  }
 },
 "nbformat": 4,
 "nbformat_minor": 4
}
